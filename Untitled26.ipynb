{
  "nbformat": 4,
  "nbformat_minor": 0,
  "metadata": {
    "colab": {
      "name": "Untitled26.ipynb",
      "provenance": [],
      "authorship_tag": "ABX9TyMuHSdjbqjKiHD2PQt2YeuW",
      "include_colab_link": true
    },
    "kernelspec": {
      "name": "python3",
      "display_name": "Python 3"
    },
    "language_info": {
      "name": "python"
    }
  },
  "cells": [
    {
      "cell_type": "markdown",
      "metadata": {
        "id": "view-in-github",
        "colab_type": "text"
      },
      "source": [
        "<a href=\"https://colab.research.google.com/github/saga1555/Laboratorio1/blob/master/Untitled26.ipynb\" target=\"_parent\"><img src=\"https://colab.research.google.com/assets/colab-badge.svg\" alt=\"Open In Colab\"/></a>"
      ]
    },
    {
      "cell_type": "code",
      "metadata": {
        "colab": {
          "base_uri": "https://localhost:8080/",
          "height": 130
        },
        "id": "KhS8l0hFu7B5",
        "outputId": "beb4f53a-d5b4-4871-aba6-3ab54215bf51"
      },
      "source": [
        "import Pkg; Pkg.add(\"Plots\")\n",
        "import Pkg; Pkg.add(\"PyPlot\")\n",
        "pyplot()\n",
        "r=3\n",
        "lambda = 1\n",
        "mu = [3.0, 2.0, 2.0]\n",
        "e = Matrix{Float64}(I, r, r)\n",
        "n = [1.0, 1.0, 1.0]\n",
        "Q = [0.0 0.0 0.5 0.5; 0.0 0.0 1.0 0.0; 0.0 0.0 0.0 1.0; 0.7 0.3 0.0 0.0]\n",
        "Q0 = Q[2:r+1, 2:r+1] \n",
        "Q0_inv = inv(e - Q0)\n",
        "lambda_i = lambda * Q[1, 2:r+1]\n",
        "lambda_vect = lambda_i' * Q0_inv\n",
        "ro = zeros(Float64, r)\n",
        "for i = 1:r\n",
        "    ro[i] = lambda_vect[i] / mu[i]\n",
        "end\n",
        "println(\"LANDA'= \", lambda_vect)\n",
        "println(\"p - \", ro)\n",
        "\n",
        "for i in (1:r)\n",
        "    if (lambda_vect[i] < n[i] * mu[i])\n",
        "        println(\"LANDA'[$i] < n[$i]*u[$i] = > la existencia estacionaria para el sistema [$i ] Se cumple\")\n",
        "    else\n",
        "        println(\"LANDA'[$i] > n[$i]*u[$i]=> la existencia estacionaria para el sistema [$i ] No se cumple\")\n",
        "    end\n",
        "end\n",
        "\n",
        "\n",
        "lambda=1\n",
        "N= zeros(Float64, r)\n",
        "for i in 1:r\n",
        "    t_i=1. / (mu[i] * (1 - ro[i]))\n",
        "    println(\"Tiempo promedio empleado en\",i,\"sistema = $t_i segundos\")\n",
        "    #N[i] = ro[i] / (1-ro[i])\n",
        "    N[i] = t_i\n",
        "end\n",
        "\n",
        "\n",
        "\n",
        "U = sum(N) / lambda\n",
        "println(\"El tiempo promedio de permanencia en el sistema es de = $U segundos\")\n",
        "\n",
        "\n",
        "for i in 1:r\n",
        "    q_i=ro[i]^2 / (1 - ro[i])\n",
        "    println(\"Longitud promedio de la cola \",i,\" Subsistema = $q_i\")\n",
        "end\n",
        "\n",
        "\n",
        "println(\"Verificación de la existencia de un régimen estacionario con LANDA:\")\n",
        "for i in 1:r\n",
        "    println(\"LANDA'[$i]=\", lambda_vect[i],\" *LANDA,  LANDA'[$i] < \", n[i] * mu[i])\n",
        "end\n",
        "\n",
        "println(\"Variando en  [0:1.5]\")\n",
        "lambda_stops= collect(0:0.05:1.5)\n",
        "y1 = zeros(Float64, length(lambda_stops))\n",
        "y2 = zeros(Float64, length(lambda_stops))\n",
        "y3 = zeros(Float64, length(lambda_stops))\n",
        "y_sum = zeros(Float64, length(lambda_stops))\n",
        "for i=1:length(lambda_stops)\n",
        "    y1[i] = 1. / (mu[1] - lambda_stops[i])\n",
        "    y2[i] = 1. / (mu[2] - lambda_stops[i])\n",
        "    y3[i] = 1. / (mu[3] - lambda_stops[i])\n",
        "    y_sum[i]= y1[i] + y2[i] + y3[1]\n",
        "end\n",
        "    \n",
        "plot(lambda_stops, [y1 y2 y3 y_sum],\n",
        "    legend=:topleft,\n",
        "    label = [\"Subsistema 1\" \"Subsistema 2\" \"Subsistema 3\" \"Sistema\"],\n",
        "    title = \" Tiempo de estancia promedio\",\n",
        "    xlabel=\"LANDA\",\n",
        "    ylabel = \"TIEMPO, SEGUNDOS\")\n",
        "savefig(\"lambdaplot.png\")\n",
        "\n",
        "\n"
      ],
      "execution_count": 2,
      "outputs": [
        {
          "output_type": "error",
          "ename": "SyntaxError",
          "evalue": "ignored",
          "traceback": [
            "\u001b[0;36m  File \u001b[0;32m\"<ipython-input-2-f4dad1e5f58e>\"\u001b[0;36m, line \u001b[0;32m5\u001b[0m\n\u001b[0;31m    lambda = 1\u001b[0m\n\u001b[0m           ^\u001b[0m\n\u001b[0;31mSyntaxError\u001b[0m\u001b[0;31m:\u001b[0m invalid syntax\n"
          ]
        }
      ]
    }
  ]
}